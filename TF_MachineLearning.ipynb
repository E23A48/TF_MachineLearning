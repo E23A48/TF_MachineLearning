{
  "nbformat": 4,
  "nbformat_minor": 0,
  "metadata": {
    "colab": {
      "name": "TF_MachineLearning.ipynb",
      "provenance": [],
      "toc_visible": true,
      "include_colab_link": true
    },
    "kernelspec": {
      "name": "python3",
      "display_name": "Python 3"
    }
  },
  "cells": [
    {
      "cell_type": "markdown",
      "metadata": {
        "id": "view-in-github",
        "colab_type": "text"
      },
      "source": [
        "<a href=\"https://colab.research.google.com/github/E23A48/TF_MachineLearning/blob/main/TF_MachineLearning.ipynb\" target=\"_parent\"><img src=\"https://colab.research.google.com/assets/colab-badge.svg\" alt=\"Open In Colab\"/></a>"
      ]
    },
    {
      "cell_type": "markdown",
      "metadata": {
        "id": "3UeILiGrQPHM"
      },
      "source": [
        "**TF**\n",
        "**MACHINE LEARNING**\n",
        "2020-2"
      ]
    },
    {
      "cell_type": "markdown",
      "metadata": {
        "id": "rhJWh17xQluQ"
      },
      "source": [
        "Integrantes:\n",
        "*   Piero Herrera\n",
        "*   Camilo Silva\n",
        "*   Diego Urrutia"
      ]
    },
    {
      "cell_type": "markdown",
      "metadata": {
        "id": "gDsKeZ_Kdy7I"
      },
      "source": [
        "#**Introducción :**"
      ]
    },
    {
      "cell_type": "markdown",
      "metadata": {
        "id": "fiJDEfn_wLmm"
      },
      "source": [
        "#**Convolutional Neural Network**"
      ]
    },
    {
      "cell_type": "code",
      "metadata": {
        "id": "wU5SMkXwd7Gx"
      },
      "source": [
        "import os\n",
        "import numpy as np\n",
        "from keras.models import Sequential\n",
        "from keras.layers import Activation, Dropout, Flatten, Dense\n",
        "from keras.preprocessing.image import ImageDataGenerator\n",
        "from keras.layers import Convolution2D, MaxPooling2D, ZeroPadding2D\n",
        "from keras import optimizers\n",
        "\n",
        "import cv2\n",
        "import matplotlib.pyplot as plt\n"
      ],
      "execution_count": 61,
      "outputs": []
    },
    {
      "cell_type": "code",
      "metadata": {
        "id": "0tOJ-eD9l9yr"
      },
      "source": [
        "train_path = 'data/train'\n",
        "training_names = os.listdir(train_path)\n",
        "\n",
        "\n",
        "image_paths = []\n",
        "#Etiquetas\n",
        "image_classes = []\n",
        "\n",
        "class_id = 0\n",
        "\n",
        "\n",
        "def imglist(path):\n",
        "    return [os.path.join(path,f) for f in os.listdir(path)]\n",
        "\n",
        "\n",
        "for training_name in training_names:\n",
        "    dir = os.path.join(train_path, training_name)\n",
        "    class_path = imglist(dir)\n",
        "    image_paths += class_path\n",
        "    image_classes += [class_id]*len(class_path)\n",
        "    class_id += 1\n",
        "\n",
        "\n",
        "for image_path in image_paths:\n",
        "    im = cv2.imread(image_path)\n",
        "\n",
        "\n",
        "\n",
        "y = np.array(image_classes)\n"
      ],
      "execution_count": 62,
      "outputs": []
    },
    {
      "cell_type": "code",
      "metadata": {
        "id": "wfycAQD1nnFx",
        "outputId": "9189274d-0ef8-4f73-abcc-6d7ac2b9a3bb",
        "colab": {
          "base_uri": "https://localhost:8080/"
        }
      },
      "source": [
        "model = Sequential()\n",
        "model.add(Convolution2D(32, 3, 3, input_shape=(img_width, img_height,3)))\n",
        "model.add(Activation('relu'))\n",
        "model.add(MaxPooling2D(pool_size=(2, 2)))\n",
        "\n",
        "model.add(Convolution2D(32, 3, 3))\n",
        "model.add(Activation('relu'))\n",
        "model.add(MaxPooling2D(pool_size=(2, 2)))\n",
        "\n",
        "model.add(Convolution2D(64, 3, 3))\n",
        "model.add(Activation('relu'))\n",
        "model.add(MaxPooling2D(pool_size=(1, 1)))\n",
        "\n",
        "model.add(Flatten())\n",
        "model.add(Dense(64))\n",
        "model.add(Activation('relu'))\n",
        "model.add(Dropout(0.5))\n",
        "model.add(Dense(1))\n",
        "model.add(Activation('sigmoid'))\n",
        "\n",
        "model.summary()\n",
        "\n",
        "\n"
      ],
      "execution_count": 63,
      "outputs": [
        {
          "output_type": "stream",
          "text": [
            "Model: \"sequential_7\"\n",
            "_________________________________________________________________\n",
            "Layer (type)                 Output Shape              Param #   \n",
            "=================================================================\n",
            "conv2d_20 (Conv2D)           (None, 50, 50, 32)        896       \n",
            "_________________________________________________________________\n",
            "activation_28 (Activation)   (None, 50, 50, 32)        0         \n",
            "_________________________________________________________________\n",
            "max_pooling2d_20 (MaxPooling (None, 25, 25, 32)        0         \n",
            "_________________________________________________________________\n",
            "conv2d_21 (Conv2D)           (None, 8, 8, 32)          9248      \n",
            "_________________________________________________________________\n",
            "activation_29 (Activation)   (None, 8, 8, 32)          0         \n",
            "_________________________________________________________________\n",
            "max_pooling2d_21 (MaxPooling (None, 4, 4, 32)          0         \n",
            "_________________________________________________________________\n",
            "conv2d_22 (Conv2D)           (None, 1, 1, 64)          18496     \n",
            "_________________________________________________________________\n",
            "activation_30 (Activation)   (None, 1, 1, 64)          0         \n",
            "_________________________________________________________________\n",
            "max_pooling2d_22 (MaxPooling (None, 1, 1, 64)          0         \n",
            "_________________________________________________________________\n",
            "flatten_4 (Flatten)          (None, 64)                0         \n",
            "_________________________________________________________________\n",
            "dense_8 (Dense)              (None, 64)                4160      \n",
            "_________________________________________________________________\n",
            "activation_31 (Activation)   (None, 64)                0         \n",
            "_________________________________________________________________\n",
            "dropout_4 (Dropout)          (None, 64)                0         \n",
            "_________________________________________________________________\n",
            "dense_9 (Dense)              (None, 1)                 65        \n",
            "_________________________________________________________________\n",
            "activation_32 (Activation)   (None, 1)                 0         \n",
            "=================================================================\n",
            "Total params: 32,865\n",
            "Trainable params: 32,865\n",
            "Non-trainable params: 0\n",
            "_________________________________________________________________\n"
          ],
          "name": "stdout"
        }
      ]
    },
    {
      "cell_type": "code",
      "metadata": {
        "id": "-nKsg93an2eF"
      },
      "source": [
        "model.compile(optimizer='rmsprop', loss='categorical_crossentropy', metrics=['accuracy'])\n"
      ],
      "execution_count": 64,
      "outputs": []
    },
    {
      "cell_type": "code",
      "metadata": {
        "id": "B3ck2bAeodWU"
      },
      "source": [
        ""
      ],
      "execution_count": null,
      "outputs": []
    }
  ]
}