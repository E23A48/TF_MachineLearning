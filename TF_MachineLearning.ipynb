{
  "nbformat": 4,
  "nbformat_minor": 0,
  "metadata": {
    "colab": {
      "name": "TF_MachineLearning.ipynb",
      "provenance": [],
      "authorship_tag": "ABX9TyNZtX9KvMTOMJ8tDFTkB3/6",
      "include_colab_link": true
    },
    "kernelspec": {
      "name": "python3",
      "display_name": "Python 3"
    }
  },
  "cells": [
    {
      "cell_type": "markdown",
      "metadata": {
        "id": "view-in-github",
        "colab_type": "text"
      },
      "source": [
        "<a href=\"https://colab.research.google.com/github/E23A48/TF_MachineLearning/blob/main/TF_MachineLearning.ipynb\" target=\"_parent\"><img src=\"https://colab.research.google.com/assets/colab-badge.svg\" alt=\"Open In Colab\"/></a>"
      ]
    },
    {
      "cell_type": "markdown",
      "metadata": {
        "id": "3UeILiGrQPHM"
      },
      "source": [
        "**TF**\n",
        "**MACHINE LEARNING**\n",
        "2020-2"
      ]
    },
    {
      "cell_type": "markdown",
      "metadata": {
        "id": "rhJWh17xQluQ"
      },
      "source": [
        "Integrantes:\n",
        "*   Piero Herrera\n",
        "*   Camilo Silva\n",
        "*   Diego Urrutia"
      ]
    }
  ]
}